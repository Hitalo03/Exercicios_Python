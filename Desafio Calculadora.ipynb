{
 "cells": [
  {
   "cell_type": "code",
   "execution_count": 13,
   "id": "d3db392b",
   "metadata": {},
   "outputs": [
    {
     "name": "stdout",
     "output_type": "stream",
     "text": [
      "Seja Bem vindo a calculadora!\n",
      "\n",
      "Por favor selecione uma operação válida!\n",
      "\n",
      " Soma: 1 \n",
      " Subtração: 2 \n",
      " Multiplicação: 3 \n",
      " Divisão: 4 \n",
      "1\n",
      "\n",
      "\n",
      "Digite primeiro valor: \n",
      "2\n",
      "Digite segundo valor: \n",
      "2\n",
      "O reultado da operacação é:  4.0\n"
     ]
    }
   ],
   "source": [
    "print(\"Seja Bem vindo a calculadora!\\n\")\n",
    "\n",
    "repeticao = 0\n",
    "\n",
    "while repeticao < 1 and repeticao < 5:\n",
    "    \n",
    "    print(\"Por favor selecione uma operação válida!\\n\")\n",
    "    \n",
    "    operacao = int(input(\" Soma: 1 \\n Subtração: 2 \\n Multiplicação: 3 \\n Divisão: 4 \\n\"))\n",
    "    repeticao = operacao\n",
    "    \n",
    "    print(\"\\n\")\n",
    "    \n",
    "    valor1 =  float(input(\"Digite primeiro valor: \\n\"))\n",
    "    valor2 = float(input(\"Digite segundo valor: \\n\"))\n",
    "    \n",
    "    \n",
    "    if operacao == 1:\n",
    "        resultado = valor1 + valor2\n",
    "    \n",
    "    elif operacao == 2:\n",
    "        resultado = valor1 - valor2\n",
    "        \n",
    "    elif operacao == 3:\n",
    "            resultado = valor1 * valor2\n",
    "            \n",
    "    else:\n",
    "            resultado = valor1 / valor2\n",
    "            \n",
    "    print(\"O reultado da operacação é: \", resultado)"
   ]
  },
  {
   "cell_type": "code",
   "execution_count": null,
   "id": "57988d3c",
   "metadata": {},
   "outputs": [],
   "source": []
  }
 ],
 "metadata": {
  "kernelspec": {
   "display_name": "Python 3 (ipykernel)",
   "language": "python",
   "name": "python3"
  },
  "language_info": {
   "codemirror_mode": {
    "name": "ipython",
    "version": 3
   },
   "file_extension": ".py",
   "mimetype": "text/x-python",
   "name": "python",
   "nbconvert_exporter": "python",
   "pygments_lexer": "ipython3",
   "version": "3.9.13"
  }
 },
 "nbformat": 4,
 "nbformat_minor": 5
}
